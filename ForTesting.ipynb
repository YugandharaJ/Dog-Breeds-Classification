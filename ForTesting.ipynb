{
 "cells": [
  {
   "cell_type": "code",
   "execution_count": 2,
   "metadata": {},
   "outputs": [
    {
     "name": "stdout",
     "output_type": "stream",
     "text": [
      "/Users/Yuga/Documents/AI_Python/Image Classifier/AIPND-revision\n"
     ]
    }
   ],
   "source": [
    "from pathlib import Path\n",
    "\n",
    "# get the current working directory\n",
    "current_working_directory = Path.cwd()\n",
    "\n",
    "# print output to the console\n",
    "print(current_working_directory)"
   ]
  },
  {
   "cell_type": "code",
   "execution_count": 4,
   "metadata": {},
   "outputs": [
    {
     "name": "stderr",
     "output_type": "stream",
     "text": [
      "usage: ipykernel_launcher.py [-h] [--dir DIR] [--arch ARCH]\n",
      "                             [--dogfile DOGFILE]\n",
      "ipykernel_launcher.py: error: unrecognized arguments: --f=/Users/Yuga/Library/Jupyter/runtime/kernel-v2-1095nfpDD4DxN7cF.json\n"
     ]
    },
    {
     "ename": "SystemExit",
     "evalue": "2",
     "output_type": "error",
     "traceback": [
      "An exception has occurred, use %tb to see the full traceback.\n",
      "\u001b[0;31mSystemExit\u001b[0m\u001b[0;31m:\u001b[0m 2\n"
     ]
    }
   ],
   "source": [
    "from get_input_args import *\n",
    "\n",
    "in_arg = get_input_args()"
   ]
  },
  {
   "cell_type": "code",
   "execution_count": 11,
   "metadata": {},
   "outputs": [
    {
     "name": "stdout",
     "output_type": "stream",
     "text": [
      "_StoreAction(option_strings=['--dir'], dest='dir', nargs=None, const=None, default='pet_images/', type=<class 'str'>, choices=None, required=False, help='path to the folder of pet images', metavar=None)\n"
     ]
    }
   ],
   "source": [
    " \n",
    "# Imports python modules\n",
    "import argparse\n",
    " # Create Parse using ArgumentParser\n",
    "parser = argparse.ArgumentParser(description='Image folder, CNN model, Text file with dog names')\n",
    "# Create 3 command line arguments as mentioned above using add_argument() from ArguementParser method\n",
    "print(parser.add_argument('--dir', type = str, default = 'pet_images/', \n",
    "                    help = 'path to the folder of pet images'))\n",
    "# parser.add_argument('--arch', default='vgg')\n",
    "# parser.add_argument('--dogfile', default='dognames.txt')"
   ]
  },
  {
   "cell_type": "code",
   "execution_count": 116,
   "metadata": {},
   "outputs": [
    {
     "name": "stdout",
     "output_type": "stream",
     "text": [
      "['cat', '01.jpg'] <class 'list'>\n",
      "['poodle', '07927.jpg'] <class 'list'>\n",
      "['cat', '02.jpg'] <class 'list'>\n",
      "['great', 'dane', '05320.jpg'] <class 'list'>\n",
      "{'cat_01.jpg': 'cat', 'Poodle_07927.jpg': 'poodle', 'cat_02.jpg': 'cat', 'Great_dane_05320.jpg': 'great dane'}\n"
     ]
    }
   ],
   "source": [
    "from os import listdir\n",
    "\n",
    "names = listdir('pet_images/')\n",
    "result_dict = dict()\n",
    "\n",
    "for name in names[0:4]: \n",
    "    #skip hidden files\n",
    "    if name.startswith('.'):\n",
    "        continue\n",
    "\n",
    "    #Lowercase and split around underscore\n",
    "    name_lwr_splt = name.lower().split('_')\n",
    "    print(name_lwr_splt, type(name_lwr_splt))\n",
    "    \n",
    "    pet_label = ' '.join([char for char in name_lwr_splt if char.isalpha()])\n",
    "\n",
    "    result_dict[name] = pet_label\n",
    "        \n",
    "print(result_dict)"
   ]
  },
  {
   "cell_type": "code",
   "execution_count": 36,
   "metadata": {},
   "outputs": [
    {
     "name": "stdout",
     "output_type": "stream",
     "text": [
      "['great', 'dane', '05320.jpg']\n",
      "great dane\n",
      "great dane\n",
      "{'Great_dane_05320.jpg': 'great dane'}\n",
      "10 10\n"
     ]
    }
   ],
   "source": [
    "test_dict = dict()\n",
    "\n",
    "#Great Dane Example: \n",
    "a = names[3].lower().split('_')\n",
    "b = ' '.join(char for char in a if char.isalpha())\n",
    "print(a)\n",
    "print(b)\n",
    "c = b.strip()\n",
    "\n",
    "print(c)\n",
    "\n",
    "len_b = len(b)\n",
    "len_c = len(c)\n",
    "\n",
    "test_dict[names[3]] = b\n",
    "\n",
    "print(test_dict)\n",
    "\n",
    "print(len_b, len_c)"
   ]
  },
  {
   "cell_type": "code",
   "execution_count": 70,
   "metadata": {},
   "outputs": [
    {
     "ename": "NameError",
     "evalue": "name 'strip' is not defined",
     "output_type": "error",
     "traceback": [
      "\u001b[0;31m---------------------------------------------------------------------------\u001b[0m",
      "\u001b[0;31mNameError\u001b[0m                                 Traceback (most recent call last)",
      "Cell \u001b[0;32mIn[70], line 1\u001b[0m\n\u001b[0;32m----> 1\u001b[0m help(\u001b[43mstrip\u001b[49m)\n",
      "\u001b[0;31mNameError\u001b[0m: name 'strip' is not defined"
     ]
    }
   ],
   "source": [
    "help(strip)"
   ]
  },
  {
   "cell_type": "code",
   "execution_count": 99,
   "metadata": {},
   "outputs": [
    {
     "name": "stdout",
     "output_type": "stream",
     "text": [
      "German shepherd, German shepherd dog, German police dog, alsatian\n",
      "['german shepherd', ' german shepherd dog', ' german police dog', ' alsatian']\n",
      "german shepherd <class 'str'>\n",
      " german shepherd dog <class 'str'>\n",
      " german police dog <class 'str'>\n",
      " alsatian <class 'str'>\n",
      "alsatian\n"
     ]
    }
   ],
   "source": [
    "from classifier import classifier \n",
    "\n",
    "clfr_lbls = classifier('/Users/Yuga/Documents/AI_Python/Image Classifier/AIPND-revision/intropyproject-classify-pet-images/pet_images/German_shepherd_dog_04890.jpg','vgg')\n",
    "clsfr_lbl_frmt = []\n",
    "\n",
    "print(clfr_lbls)\n",
    "lbl_lwr_splt = clfr_lbls.lower().split(',')\n",
    "print(lbl_lwr_splt)\n",
    "for lbl in lbl_lwr_splt: \n",
    "\n",
    "    print(lbl, type(lbl))\n",
    "    \n",
    "    clfr_label = lbl.strip()\n",
    "        \n",
    "print(clfr_label)\n"
   ]
  },
  {
   "cell_type": "code",
   "execution_count": 101,
   "metadata": {},
   "outputs": [
    {
     "name": "stdout",
     "output_type": "stream",
     "text": [
      "True\n",
      "False\n",
      "False\n"
     ]
    }
   ],
   "source": [
    "pet_lbl = 'german shepherd'\n",
    "\n",
    "print(pet_lbl in lbl_lwr_splt)\n",
    "\n",
    "pet_lbl = 'german'\n",
    "\n",
    "print(pet_lbl in lbl_lwr_splt)\n",
    "\n",
    "pet_lbl = 'a'\n",
    "\n",
    "print(pet_lbl in lbl_lwr_splt)"
   ]
  },
  {
   "cell_type": "code",
   "execution_count": 118,
   "metadata": {},
   "outputs": [
    {
     "name": "stdout",
     "output_type": "stream",
     "text": [
      "[['german shepherd', ' german shepherd dog', ' german police dog', ' alsatian'], False] False\n",
      "[['german shepherd', ' german shepherd dog', ' german police dog', ' alsatian'], False] False\n",
      "[['german shepherd', ' german shepherd dog', ' german police dog', ' alsatian'], False] False\n",
      "[['german shepherd', ' german shepherd dog', ' german police dog', ' alsatian'], False] False\n"
     ]
    }
   ],
   "source": [
    "value_list = []\n",
    "for key in result_dict: \n",
    "    #value at [0]\n",
    "    pet_label = result_dict[key]\n",
    "    #value at [1]\n",
    "    lbl_lwr_splt = clfr_lbls.lower().split(',')\n",
    "    #value at [2]\n",
    "    lbl_match =  pet_label in lbl_lwr_splt\n",
    "    print(pet_label, lbl_match)\n",
    "    result_dict[key] = [pet_label, lbl_lwr_splt,bool(lbl_match)]\n",
    "        \n",
    "# print(result_dict)"
   ]
  }
 ],
 "metadata": {
  "kernelspec": {
   "display_name": "Python 3",
   "language": "python",
   "name": "python3"
  },
  "language_info": {
   "codemirror_mode": {
    "name": "ipython",
    "version": 3
   },
   "file_extension": ".py",
   "mimetype": "text/x-python",
   "name": "python",
   "nbconvert_exporter": "python",
   "pygments_lexer": "ipython3",
   "version": "3.12.1"
  }
 },
 "nbformat": 4,
 "nbformat_minor": 2
}
